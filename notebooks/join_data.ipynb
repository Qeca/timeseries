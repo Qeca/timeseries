{
 "cells": [
  {
   "cell_type": "code",
   "execution_count": 1,
   "id": "9abea506-130d-40a7-9a71-f30b33e1cbd4",
   "metadata": {},
   "outputs": [],
   "source": [
    "import pandas as pd\n",
    "import numpy as np\n",
    "\n",
    "import matplotlib.pyplot as plt"
   ]
  },
  {
   "cell_type": "code",
   "execution_count": 2,
   "id": "bc0debbf-59cb-46b4-a0c1-3c0838497a5a",
   "metadata": {},
   "outputs": [
    {
     "data": {
      "text/plain": [
       "'ru_RU.UTF-8'"
      ]
     },
     "execution_count": 2,
     "metadata": {},
     "output_type": "execute_result"
    }
   ],
   "source": [
    "#Установка локали для русского языка для перевода даты в нормальный вид\n",
    "import locale\n",
    "locale.setlocale(locale.LC_TIME, 'ru_RU.UTF-8')"
   ]
  },
  {
   "cell_type": "code",
   "execution_count": 48,
   "id": "82475686-9340-4e5b-a69b-9176505ec72a",
   "metadata": {},
   "outputs": [
    {
     "data": {
      "text/plain": [
       "'\\ntitle - Заголовок\\ndescription - Текст под заголовком\\ndate - дата\\ntype - Тип события: Новость, пресс релиз, инвестиции и тд\\ncomp_short - аббревиатуры компании/валюты\\ndata_exchange - процентное изменение (котировки)\\ndata-price - нынешний курс влюты/акции в рублях\\ntime - время публикации\\n'"
      ]
     },
     "execution_count": 48,
     "metadata": {},
     "output_type": "execute_result"
    }
   ],
   "source": [
    "text2024 = pd.read_csv(r'../data/parsing_date_text_y2024.csv')\n",
    "text2023 = pd.read_csv(r'../data/parsing_date_text_y2023.csv')\n",
    "text2022 = pd.read_csv(r'../data/parsing_date_text_y2022.csv')\n",
    "\n",
    "text_com2022 = pd.read_csv(r'../data/parsing_commer2022.csv')\n",
    "text_com2023 = pd.read_csv(r'../data/parsing_commer2023.csv')\n",
    "text_com2024 = pd.read_csv(r'../data/parsing_commer2024.csv')\n",
    "\n",
    "'''\n",
    "title - Заголовок\n",
    "description - Текст под заголовком\n",
    "date - дата\n",
    "type - Тип события: Новость, пресс релиз, инвестиции и тд\n",
    "comp_short - аббревиатуры компании/валюты\n",
    "data_exchange - процентное изменение (котировки)\n",
    "data-price - нынешний курс влюты/акции в рублях\n",
    "time - время публикации\n",
    "'''"
   ]
  },
  {
   "cell_type": "code",
   "execution_count": 49,
   "id": "afe2e645-c3f6-4ff3-b112-50d160da7146",
   "metadata": {},
   "outputs": [],
   "source": [
    "all_data_commer = pd.concat([text_com2022,text_com2023,text_com2024]).reset_index(drop=True).rename(columns={'name':'title'})\n",
    "all_data_rbk = pd.concat([text2022, text2023, text2024]).reset_index(drop=True).drop(['Unnamed: 0'], axis=1)"
   ]
  },
  {
   "cell_type": "code",
   "execution_count": 50,
   "id": "f1518996-cb53-4a94-9be4-1a6276065af1",
   "metadata": {},
   "outputs": [],
   "source": [
    "#take time from date in rbk\n",
    "all_data_rbk['time'] = all_data_rbk['date'].apply(lambda x: x.split(',')[-1])\n",
    "all_data_rbk['date'] = all_data_rbk['date'].apply(lambda x: x.split(',')[0])\n",
    "#make col source\n",
    "all_data_rbk['source'] = 'rbk'\n",
    "all_data_commer['source'] = 'commer'"
   ]
  },
  {
   "cell_type": "code",
   "execution_count": 53,
   "id": "7ba09e5a-d8d2-48dc-bf28-b360aef01045",
   "metadata": {},
   "outputs": [],
   "source": [
    "# перевод даты в нормальный вид в рбк и удаление пустышек\n",
    "all_data_rbk['date'] = pd.to_datetime(all_data_rbk['date'], format='%d %b %Y', errors='coerce')\n",
    "all_data_rbk['date'] = pd.to_datetime(all_data_rbk['date'])\n",
    "all_data_rbk['date'] = all_data_rbk['date'].dt.date\n",
    "\n",
    "all_data_rbk = all_data_rbk.dropna(subset=['date'])"
   ]
  },
  {
   "cell_type": "code",
   "execution_count": 54,
   "id": "18293cfd-fb0a-46ba-bf35-333d2c8b0034",
   "metadata": {},
   "outputs": [],
   "source": [
    "#concat all data\n",
    "all_data = pd.concat([all_data_rbk, all_data_commer]).reset_index(drop=True)\n",
    "all_data['full_text'] = all_data['title'] + ' ' + all_data['description'].fillna('')"
   ]
  },
  {
   "cell_type": "code",
   "execution_count": 55,
   "id": "a0a10626-90f5-44bc-9bd6-7b5318f0e66e",
   "metadata": {},
   "outputs": [],
   "source": [
    "all_data = all_data.drop(['tags'], axis=1)"
   ]
  },
  {
   "cell_type": "code",
   "execution_count": 56,
   "id": "a4ea2c04-d73b-4313-a6a4-c5510d5562d3",
   "metadata": {},
   "outputs": [],
   "source": [
    "all_text = all_data[['full_text','date','time','source']]\n",
    "title_only = all_data[['title','date','time','source']]\n",
    "description_only = all_data[['description','date','time','source']].dropna()"
   ]
  },
  {
   "cell_type": "code",
   "execution_count": 61,
   "id": "8929052b-ceaf-46f7-a284-c788c3f9a454",
   "metadata": {},
   "outputs": [],
   "source": [
    "all_data.to_csv('../data/all_data.csv', index=False)\n",
    "all_text.to_csv('../data/all_text.csv', index=False)\n",
    "title_only.to_csv('../data/title_only.csv', index=False)\n",
    "description_only.to_csv('../data/description_only.csv', index=False)"
   ]
  },
  {
   "cell_type": "code",
   "execution_count": null,
   "id": "3941bf8a-d2b2-4d07-abec-fe33c6f5906e",
   "metadata": {},
   "outputs": [],
   "source": [
    "description_only.shape"
   ]
  },
  {
   "cell_type": "code",
   "execution_count": null,
   "id": "60d7e020-9571-47b4-b22c-657ab95214e1",
   "metadata": {},
   "outputs": [],
   "source": []
  }
 ],
 "metadata": {
  "kernelspec": {
   "display_name": "Python 3 (ipykernel)",
   "language": "python",
   "name": "python3"
  },
  "language_info": {
   "codemirror_mode": {
    "name": "ipython",
    "version": 3
   },
   "file_extension": ".py",
   "mimetype": "text/x-python",
   "name": "python",
   "nbconvert_exporter": "python",
   "pygments_lexer": "ipython3",
   "version": "3.12.4"
  }
 },
 "nbformat": 4,
 "nbformat_minor": 5
}

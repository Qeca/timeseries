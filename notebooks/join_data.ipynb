{
 "cells": [
  {
   "cell_type": "code",
   "execution_count": 2,
   "id": "9abea506-130d-40a7-9a71-f30b33e1cbd4",
   "metadata": {},
   "outputs": [],
   "source": [
    "import pandas as pd\n",
    "import numpy as np\n",
    "\n",
    "import matplotlib.pyplot as plt"
   ]
  },
  {
   "cell_type": "code",
   "execution_count": 45,
   "id": "82475686-9340-4e5b-a69b-9176505ec72a",
   "metadata": {},
   "outputs": [],
   "source": [
    "text2024 = pd.read_csv(r'../data/parsing_date_text_y2024.csv')\n",
    "text2023 = pd.read_csv(r'../data/parsing_date_text_y2023.csv')\n",
    "text2022 = pd.read_csv(r'../data/parsing_date_text_y2022.csv')\n",
    "text_cbr = pd.read_csv(r'../data/parsing_date_text_cbr.csv').drop(['Unnamed: 0'], axis=1)\n",
    "\n",
    "text_com2022 = pd.read_csv(r'../data/parsing_commer2022.csv')\n",
    "text_com2023 = pd.read_csv(r'../data/parsing_commer2023.csv')\n",
    "text_com2024 = pd.read_csv(r'../data/parsing_commer2024.csv')\n",
    "\n",
    "'''\n",
    "title - Заголовок\n",
    "description - Текст под заголовком\n",
    "date - дата\n",
    "type - Тип события: Новость, пресс релиз, инвестиции и тд\n",
    "comp_short - аббревиатуры компании/валюты\n",
    "data_exchange - процентное изменение (котировки)\n",
    "data-price - нынешний курс влюты/акции в рублях\n",
    "time - время публикации\n",
    "'''"
   ]
  },
  {
   "cell_type": "code",
   "execution_count": 117,
   "id": "afe2e645-c3f6-4ff3-b112-50d160da7146",
   "metadata": {},
   "outputs": [],
   "source": [
    "all_data_commer = pd.concat([text_com2022,text_com2023,text_com2024]).reset_index(drop=True).rename(columns={'name':'title'})\n",
    "all_data_rbk = pd.concat([text2022, text2023, text2024]).reset_index(drop=True).drop(['Unnamed: 0'], axis=1)"
   ]
  },
  {
   "cell_type": "code",
   "execution_count": 119,
   "id": "f1518996-cb53-4a94-9be4-1a6276065af1",
   "metadata": {},
   "outputs": [],
   "source": [
    "#take time from date in rbk\n",
    "all_data_rbk['time'] = all_data_rbk['date'].apply(lambda x: x.split(',')[-1])\n",
    "\n",
    "#make col source\n",
    "text_cbr['source'] = 'cb'\n",
    "all_data_rbk['source'] = 'rbk'\n",
    "all_data_commer['source'] = 'commer'"
   ]
  },
  {
   "cell_type": "code",
   "execution_count": 121,
   "id": "0fd3eb71-cec5-4323-a180-1f84ac08fc02",
   "metadata": {},
   "outputs": [
    {
     "data": {
      "text/html": [
       "<div>\n",
       "<style scoped>\n",
       "    .dataframe tbody tr th:only-of-type {\n",
       "        vertical-align: middle;\n",
       "    }\n",
       "\n",
       "    .dataframe tbody tr th {\n",
       "        vertical-align: top;\n",
       "    }\n",
       "\n",
       "    .dataframe thead th {\n",
       "        text-align: right;\n",
       "    }\n",
       "</style>\n",
       "<table border=\"1\" class=\"dataframe\">\n",
       "  <thead>\n",
       "    <tr style=\"text-align: right;\">\n",
       "      <th></th>\n",
       "      <th>date</th>\n",
       "      <th>time</th>\n",
       "      <th>title</th>\n",
       "      <th>description</th>\n",
       "      <th>tags</th>\n",
       "      <th>source</th>\n",
       "    </tr>\n",
       "  </thead>\n",
       "  <tbody>\n",
       "    <tr>\n",
       "      <th>0</th>\n",
       "      <td>31.12.2022</td>\n",
       "      <td>19:59</td>\n",
       "      <td>Поздравляем с Новым годом</td>\n",
       "      <td>NaN</td>\n",
       "      <td>['Общество', 'Материалы сайта']</td>\n",
       "      <td>commer</td>\n",
       "    </tr>\n",
       "    <tr>\n",
       "      <th>1</th>\n",
       "      <td>31.12.2022</td>\n",
       "      <td>19:59</td>\n",
       "      <td>Папа римский Франциск назвал скончавшегося Бен...</td>\n",
       "      <td>NaN</td>\n",
       "      <td>['Мир', 'Мария Федотова', 'Лента новостей']</td>\n",
       "      <td>commer</td>\n",
       "    </tr>\n",
       "    <tr>\n",
       "      <th>2</th>\n",
       "      <td>31.12.2022</td>\n",
       "      <td>19:38</td>\n",
       "      <td>Представитель СПЧ проверил условия содержания ...</td>\n",
       "      <td>NaN</td>\n",
       "      <td>['Происшествия', 'Мария Федотова', 'Лента ново...</td>\n",
       "      <td>commer</td>\n",
       "    </tr>\n",
       "    <tr>\n",
       "      <th>3</th>\n",
       "      <td>31.12.2022</td>\n",
       "      <td>19:07</td>\n",
       "      <td>МИД Турции заявил, что для вывода войск из Сир...</td>\n",
       "      <td>NaN</td>\n",
       "      <td>['Мир', 'Мария Федотова', 'Лента новостей']</td>\n",
       "      <td>commer</td>\n",
       "    </tr>\n",
       "    <tr>\n",
       "      <th>4</th>\n",
       "      <td>31.12.2022</td>\n",
       "      <td>18:39</td>\n",
       "      <td>Правительство запретило выдавать прокатные удо...</td>\n",
       "      <td>NaN</td>\n",
       "      <td>['Культура', 'Мария Федотова', 'Лента новостей']</td>\n",
       "      <td>commer</td>\n",
       "    </tr>\n",
       "  </tbody>\n",
       "</table>\n",
       "</div>"
      ],
      "text/plain": [
       "         date   time                                              title  \\\n",
       "0  31.12.2022  19:59                          Поздравляем с Новым годом   \n",
       "1  31.12.2022  19:59  Папа римский Франциск назвал скончавшегося Бен...   \n",
       "2  31.12.2022  19:38  Представитель СПЧ проверил условия содержания ...   \n",
       "3  31.12.2022  19:07  МИД Турции заявил, что для вывода войск из Сир...   \n",
       "4  31.12.2022  18:39  Правительство запретило выдавать прокатные удо...   \n",
       "\n",
       "  description                                               tags  source  \n",
       "0         NaN                    ['Общество', 'Материалы сайта']  commer  \n",
       "1         NaN        ['Мир', 'Мария Федотова', 'Лента новостей']  commer  \n",
       "2         NaN  ['Происшествия', 'Мария Федотова', 'Лента ново...  commer  \n",
       "3         NaN        ['Мир', 'Мария Федотова', 'Лента новостей']  commer  \n",
       "4         NaN   ['Культура', 'Мария Федотова', 'Лента новостей']  commer  "
      ]
     },
     "execution_count": 121,
     "metadata": {},
     "output_type": "execute_result"
    }
   ],
   "source": [
    "all_data_commer.head(5)"
   ]
  },
  {
   "cell_type": "code",
   "execution_count": 131,
   "id": "18293cfd-fb0a-46ba-bf35-333d2c8b0034",
   "metadata": {},
   "outputs": [],
   "source": [
    "#concat all data\n",
    "all_data = pd.concat([all_data_rbk, all_data_commer, text_cbr]).reset_index(drop=True)\n",
    "all_data['full_text'] = all_data['title'] + ' ' + all_data['description'].fillna('')"
   ]
  },
  {
   "cell_type": "code",
   "execution_count": 151,
   "id": "a4ea2c04-d73b-4313-a6a4-c5510d5562d3",
   "metadata": {},
   "outputs": [],
   "source": [
    "all_text = all_data[['full_text','date','time','source']]\n",
    "title_only = all_data[['title','date','time','source']]\n",
    "description_only = all_data[['description','date','time','source']].dropna()"
   ]
  },
  {
   "cell_type": "code",
   "execution_count": 156,
   "id": "8929052b-ceaf-46f7-a284-c788c3f9a454",
   "metadata": {},
   "outputs": [],
   "source": [
    "all_data.to_csv('../data/all_data.csv', index=False)\n",
    "all_text.to_csv('../data/all_text.csv', index=False)\n",
    "title_only.to_csv('../data/title_only.csv', index=False)\n",
    "description_only.to_csv('../data/description_only.csv', index=False)"
   ]
  },
  {
   "cell_type": "code",
   "execution_count": 149,
   "id": "3941bf8a-d2b2-4d07-abec-fe33c6f5906e",
   "metadata": {},
   "outputs": [
    {
     "data": {
      "text/plain": [
       "(220034, 4)"
      ]
     },
     "execution_count": 149,
     "metadata": {},
     "output_type": "execute_result"
    }
   ],
   "source": [
    "description_only.shape"
   ]
  },
  {
   "cell_type": "code",
   "execution_count": null,
   "id": "60d7e020-9571-47b4-b22c-657ab95214e1",
   "metadata": {},
   "outputs": [],
   "source": []
  }
 ],
 "metadata": {
  "kernelspec": {
   "display_name": "Python 3 (ipykernel)",
   "language": "python",
   "name": "python3"
  },
  "language_info": {
   "codemirror_mode": {
    "name": "ipython",
    "version": 3
   },
   "file_extension": ".py",
   "mimetype": "text/x-python",
   "name": "python",
   "nbconvert_exporter": "python",
   "pygments_lexer": "ipython3",
   "version": "3.11.7"
  }
 },
 "nbformat": 4,
 "nbformat_minor": 5
}
